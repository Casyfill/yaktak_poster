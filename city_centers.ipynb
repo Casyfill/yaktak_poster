{
 "cells": [
  {
   "cell_type": "code",
   "execution_count": 29,
   "id": "e0e5c111-91ca-4fc4-b5b9-f0f51d861f71",
   "metadata": {},
   "outputs": [
    {
     "data": {
      "text/plain": [
       "'1.1.2'"
      ]
     },
     "execution_count": 29,
     "metadata": {},
     "output_type": "execute_result"
    }
   ],
   "source": [
    "import osmnx as ox\n",
    "from IPython.display import Image\n",
    "import geopandas as gp\n",
    "from tqdm import tqdm\n",
    "%matplotlib inline\n",
    "ox.__version__"
   ]
  },
  {
   "cell_type": "code",
   "execution_count": 2,
   "id": "c1695495-8253-4e56-b72b-dbe248fc36c5",
   "metadata": {},
   "outputs": [],
   "source": [
    "# configure the inline image display\n",
    "img_folder = \"images\"\n",
    "extension = \"png\"\n",
    "size = 800\n",
    "\n",
    "# specify that we're retrieving building footprint geometries\n",
    "tags = {\"building\": True}"
   ]
  },
  {
   "cell_type": "code",
   "execution_count": 3,
   "id": "6bc257b2-20a0-4b9a-b1cd-774840c9070e",
   "metadata": {},
   "outputs": [],
   "source": [
    "# helper funcion to get one-square-mile street networks, building footprints, and plot them\n",
    "def make_plot(\n",
    "    place,\n",
    "    point,\n",
    "    network_type=\"drive\",\n",
    "    dpi=40,\n",
    "    dist=805,\n",
    "    default_width=4,\n",
    "    street_widths=None,\n",
    "):\n",
    "    fp = f\"./{img_folder}/{place}.{extension}\"\n",
    "    gdf = ox.geometries_from_point(point, tags, dist=dist)\n",
    "    fig, ax = ox.plot_figure_ground(\n",
    "        point=point,\n",
    "        dist=dist,\n",
    "        network_type=network_type,\n",
    "        default_width=default_width,\n",
    "        street_widths=street_widths,\n",
    "        save=False,\n",
    "        show=False,\n",
    "        close=True,\n",
    "    )\n",
    "    fig, ax = ox.plot_footprints(\n",
    "        gdf, ax=ax, filepath=fp, dpi=dpi, save=True, show=False, close=True\n",
    "    )"
   ]
  },
  {
   "cell_type": "code",
   "execution_count": 4,
   "id": "6b8fa538-6c7f-4132-8957-e197b89639d8",
   "metadata": {},
   "outputs": [],
   "source": [
    "place = \"portland_buildings\"\n",
    "point = (45.517309, -122.682138)\n",
    "make_plot(place, point)"
   ]
  },
  {
   "cell_type": "markdown",
   "id": "2308ddf4-3287-4260-97ba-86fd9eb52b12",
   "metadata": {},
   "source": [
    "## All Main Cities in Belarus"
   ]
  },
  {
   "cell_type": "code",
   "execution_count": 5,
   "id": "e7c96bac-f073-425b-887f-bfbb0a43092f",
   "metadata": {},
   "outputs": [],
   "source": [
    "import pandas as pd"
   ]
  },
  {
   "cell_type": "code",
   "execution_count": 12,
   "id": "1a411c08-b781-449a-9994-b3366763d96f",
   "metadata": {},
   "outputs": [],
   "source": [
    "cities = pd.read_csv('./data/city_pop.csv').sort_values('2021', ascending=False)"
   ]
  },
  {
   "cell_type": "code",
   "execution_count": 86,
   "id": "79bd1f46-557b-4663-989b-1727151b8f13",
   "metadata": {},
   "outputs": [],
   "source": [
    "cities['name'] = cities['name'].str.replace('Gomel', 'Homel')"
   ]
  },
  {
   "cell_type": "code",
   "execution_count": 14,
   "id": "5f50fea2-5c9c-4459-b082-7286f97c6728",
   "metadata": {},
   "outputs": [
    {
     "data": {
      "text/html": [
       "<div>\n",
       "<style scoped>\n",
       "    .dataframe tbody tr th:only-of-type {\n",
       "        vertical-align: middle;\n",
       "    }\n",
       "\n",
       "    .dataframe tbody tr th {\n",
       "        vertical-align: top;\n",
       "    }\n",
       "\n",
       "    .dataframe thead th {\n",
       "        text-align: right;\n",
       "    }\n",
       "</style>\n",
       "<table border=\"1\" class=\"dataframe\">\n",
       "  <thead>\n",
       "    <tr style=\"text-align: right;\">\n",
       "      <th></th>\n",
       "      <th>2021</th>\n",
       "      <th>name</th>\n",
       "      <th>full_address</th>\n",
       "    </tr>\n",
       "  </thead>\n",
       "  <tbody>\n",
       "    <tr>\n",
       "      <th>0</th>\n",
       "      <td>1742124</td>\n",
       "      <td>Minsk</td>\n",
       "      <td>Minsk, Belarus</td>\n",
       "    </tr>\n",
       "    <tr>\n",
       "      <th>1</th>\n",
       "      <td>480951</td>\n",
       "      <td>Homel</td>\n",
       "      <td>Gomel, Belarus</td>\n",
       "    </tr>\n",
       "    <tr>\n",
       "      <th>2</th>\n",
       "      <td>369200</td>\n",
       "      <td>Mahilyow</td>\n",
       "      <td>Mahilyow, Belarus</td>\n",
       "    </tr>\n",
       "    <tr>\n",
       "      <th>3</th>\n",
       "      <td>342700</td>\n",
       "      <td>Vitebsk</td>\n",
       "      <td>Vitebsk, Belarus</td>\n",
       "    </tr>\n",
       "    <tr>\n",
       "      <th>4</th>\n",
       "      <td>317365</td>\n",
       "      <td>Hrodna</td>\n",
       "      <td>Hrodna, Belarus</td>\n",
       "    </tr>\n",
       "    <tr>\n",
       "      <th>5</th>\n",
       "      <td>300715</td>\n",
       "      <td>Brest</td>\n",
       "      <td>Brest, Belarus</td>\n",
       "    </tr>\n",
       "    <tr>\n",
       "      <th>6</th>\n",
       "      <td>220517</td>\n",
       "      <td>Babruysk</td>\n",
       "      <td>Babruysk, Belarus</td>\n",
       "    </tr>\n",
       "    <tr>\n",
       "      <th>7</th>\n",
       "      <td>168772</td>\n",
       "      <td>Baranovichi</td>\n",
       "      <td>Baranovichi, Belarus</td>\n",
       "    </tr>\n",
       "    <tr>\n",
       "      <th>8</th>\n",
       "      <td>143919</td>\n",
       "      <td>Barysaw</td>\n",
       "      <td>Barysaw, Belarus</td>\n",
       "    </tr>\n",
       "    <tr>\n",
       "      <th>9</th>\n",
       "      <td>130777</td>\n",
       "      <td>Pinsk</td>\n",
       "      <td>Pinsk, Belarus</td>\n",
       "    </tr>\n",
       "    <tr>\n",
       "      <th>10</th>\n",
       "      <td>125347</td>\n",
       "      <td>Orsha</td>\n",
       "      <td>Orsha, Belarus</td>\n",
       "    </tr>\n",
       "    <tr>\n",
       "      <th>11</th>\n",
       "      <td>120000</td>\n",
       "      <td>Novoye Medvezhino</td>\n",
       "      <td>Novoye Medvezhino, Belarus</td>\n",
       "    </tr>\n",
       "    <tr>\n",
       "      <th>12</th>\n",
       "      <td>112137</td>\n",
       "      <td>Mazyr</td>\n",
       "      <td>Mazyr, Belarus</td>\n",
       "    </tr>\n",
       "    <tr>\n",
       "      <th>13</th>\n",
       "      <td>105000</td>\n",
       "      <td>Malinovka</td>\n",
       "      <td>Malinovka, Belarus</td>\n",
       "    </tr>\n",
       "    <tr>\n",
       "      <th>14</th>\n",
       "      <td>101614</td>\n",
       "      <td>Salihorsk</td>\n",
       "      <td>Salihorsk, Belarus</td>\n",
       "    </tr>\n",
       "    <tr>\n",
       "      <th>15</th>\n",
       "      <td>101300</td>\n",
       "      <td>Maladzyechna</td>\n",
       "      <td>Maladzyechna, Belarus</td>\n",
       "    </tr>\n",
       "  </tbody>\n",
       "</table>\n",
       "</div>"
      ],
      "text/plain": [
       "       2021               name                full_address\n",
       "0   1742124              Minsk              Minsk, Belarus\n",
       "1    480951              Homel              Gomel, Belarus\n",
       "2    369200           Mahilyow           Mahilyow, Belarus\n",
       "3    342700            Vitebsk            Vitebsk, Belarus\n",
       "4    317365             Hrodna             Hrodna, Belarus\n",
       "5    300715              Brest              Brest, Belarus\n",
       "6    220517           Babruysk           Babruysk, Belarus\n",
       "7    168772        Baranovichi        Baranovichi, Belarus\n",
       "8    143919            Barysaw            Barysaw, Belarus\n",
       "9    130777              Pinsk              Pinsk, Belarus\n",
       "10   125347              Orsha              Orsha, Belarus\n",
       "11   120000  Novoye Medvezhino  Novoye Medvezhino, Belarus\n",
       "12   112137              Mazyr              Mazyr, Belarus\n",
       "13   105000          Malinovka          Malinovka, Belarus\n",
       "14   101614          Salihorsk          Salihorsk, Belarus\n",
       "15   101300       Maladzyechna       Maladzyechna, Belarus"
      ]
     },
     "execution_count": 87,
     "metadata": {},
     "output_type": "execute_result"
    }
   ],
   "source": [
    "cities.head(16)"
   ]
  },
  {
   "cell_type": "code",
   "execution_count": 16,
   "id": "963f2ef6-d786-4a2b-9b0b-3662c6d2b32a",
   "metadata": {},
   "outputs": [],
   "source": [
    "cities['full_address'] = cities['name'] + ', Belarus'"
   ]
  },
  {
   "cell_type": "code",
   "execution_count": 21,
   "id": "9c65431c-40cc-4b80-a434-afbb2f127f97",
   "metadata": {},
   "outputs": [
    {
     "name": "stdout",
     "output_type": "stream",
     "text": [
      "Minsk, Belarus\n",
      "Homel, Belarus\n",
      "Mahilyow, Belarus\n",
      "Vitebsk, Belarus\n",
      "Hrodna, Belarus\n",
      "Brest, Belarus\n",
      "Babruysk, Belarus\n",
      "Baranovichi, Belarus\n",
      "Barysaw, Belarus\n",
      "Pinsk, Belarus\n",
      "Orsha, Belarus\n",
      "Novoye Medvezhino, Belarus\n",
      "Mazyr, Belarus\n",
      "Malinovka, Belarus\n",
      "Salihorsk, Belarus\n",
      "Maladzyechna, Belarus\n"
     ]
    }
   ],
   "source": [
    "geocoded = dict()\n",
    "\n",
    "for _, row in cities.head(16).iterrows():\n",
    "    addr = row.full_address\n",
    "    print(addr)\n",
    "    geocoded[addr] = gp.tools.geocode(addr)"
   ]
  },
  {
   "cell_type": "code",
   "execution_count": 39,
   "id": "95585860-bc13-4aba-8944-1a2dffe9ca1d",
   "metadata": {},
   "outputs": [
    {
     "data": {
      "text/html": [
       "<div>\n",
       "<style scoped>\n",
       "    .dataframe tbody tr th:only-of-type {\n",
       "        vertical-align: middle;\n",
       "    }\n",
       "\n",
       "    .dataframe tbody tr th {\n",
       "        vertical-align: top;\n",
       "    }\n",
       "\n",
       "    .dataframe thead th {\n",
       "        text-align: right;\n",
       "    }\n",
       "</style>\n",
       "<table border=\"1\" class=\"dataframe\">\n",
       "  <thead>\n",
       "    <tr style=\"text-align: right;\">\n",
       "      <th></th>\n",
       "      <th>geometry</th>\n",
       "      <th>address</th>\n",
       "    </tr>\n",
       "  </thead>\n",
       "  <tbody>\n",
       "    <tr>\n",
       "      <th>0</th>\n",
       "      <td>POINT (27.56182 53.90247)</td>\n",
       "      <td>Минск, Беларусь</td>\n",
       "    </tr>\n",
       "  </tbody>\n",
       "</table>\n",
       "</div>"
      ],
      "text/plain": [
       "                    geometry          address\n",
       "0  POINT (27.56182 53.90247)  Минск, Беларусь"
      ]
     },
     "execution_count": 39,
     "metadata": {},
     "output_type": "execute_result"
    }
   ],
   "source": [
    "geocoded['Minsk, Belarus']"
   ]
  },
  {
   "cell_type": "code",
   "execution_count": 64,
   "id": "f48e96e7-12a3-4346-806d-468cbd581c53",
   "metadata": {},
   "outputs": [],
   "source": [
    "# helper funcion to get one-square-mile street networks, building footprints, and plot them\n",
    "def make_plot(\n",
    "    place,\n",
    "    point=None,\n",
    "    network_type=\"drive\",\n",
    "    dpi=80,\n",
    "    dist=805,\n",
    "    default_width=8,\n",
    "    street_widths=None,\n",
    "    size=480\n",
    "):\n",
    "    fp = f\"./{img_folder}/{place}.{extension}\"\n",
    "    gdf = ox.geometries_from_point(point, tags, dist=dist)\n",
    "    fig, ax = ox.plot_figure_ground(\n",
    "        point=point,\n",
    "        dist=dist,\n",
    "        network_type=network_type,\n",
    "        default_width=default_width,\n",
    "        street_widths=street_widths,\n",
    "        save=False,\n",
    "        show=False,\n",
    "        close=True,\n",
    "    )\n",
    "    fig, ax = ox.plot_footprints(\n",
    "        gdf, ax=ax, filepath=fp, dpi=dpi, save=True, show=False, close=True\n",
    "    )\n",
    "    \n",
    "    Image(fp, height=size, width=size)"
   ]
  },
  {
   "cell_type": "code",
   "execution_count": 35,
   "id": "fd000687-a669-4f2a-8953-af3c817bdf21",
   "metadata": {},
   "outputs": [
    {
     "data": {
      "text/plain": [
       "(27.5618225, 27.5618225)"
      ]
     },
     "execution_count": 45,
     "metadata": {},
     "output_type": "execute_result"
    }
   ],
   "source": [
    "geocoded['Minsk, Belarus'].loc[0, 'geometry'].x, geocoded['Minsk, Belarus'].loc[0, 'geometry'].y"
   ]
  },
  {
   "cell_type": "code",
   "execution_count": 50,
   "id": "0023524f-c072-4438-9a6f-21283940a85a",
   "metadata": {},
   "outputs": [],
   "source": [
    "df = geocoded['Minsk, Belarus']\n",
    "point = df.loc[0, 'geometry']\n",
    "xy = point.y, point.x"
   ]
  },
  {
   "cell_type": "code",
   "execution_count": 51,
   "id": "fad7a65f-210f-40e0-b0dd-ccfec106f32f",
   "metadata": {},
   "outputs": [],
   "source": [
    "# 53.901206971361546, 27.561797039386008"
   ]
  },
  {
   "cell_type": "code",
   "execution_count": 52,
   "id": "d131f7cb-1aa5-495e-9828-cbda98dac64d",
   "metadata": {},
   "outputs": [
    {
     "data": {
      "text/plain": [
       "(53.9024716, 27.5618225)"
      ]
     },
     "execution_count": 52,
     "metadata": {},
     "output_type": "execute_result"
    }
   ],
   "source": [
    "xy"
   ]
  },
  {
   "cell_type": "code",
   "execution_count": 74,
   "id": "1ccb3c2b-22b8-4c9c-aa3f-a2db592cbcc5",
   "metadata": {},
   "outputs": [],
   "source": [
    "# gdf.dtypes.to_dict()"
   ]
  },
  {
   "cell_type": "code",
   "execution_count": 84,
   "id": "0a5d77b9-1d57-464f-8192-d4bd69a6ed16",
   "metadata": {},
   "outputs": [],
   "source": [
    "street_widths = {\n",
    "    \"footway\": 0.5,\n",
    "    \"steps\": 0.5,\n",
    "    \"pedestrian\": 0.5,\n",
    "    \"path\": 0.5,\n",
    "    \"track\": 0.5,\n",
    "    \"service\": 0.5,\n",
    "    \"residential\": 0.5,\n",
    "    \"primary\": 1,\n",
    "    \"motorway\": 2,\n",
    "    \"highway\":2,\n",
    "}"
   ]
  },
  {
   "cell_type": "code",
   "execution_count": 96,
   "id": "c92aa73a-b768-474f-9518-b0a112c07cf5",
   "metadata": {},
   "outputs": [],
   "source": [
    "from shapely.geometry import Point"
   ]
  },
  {
   "cell_type": "code",
   "execution_count": 95,
   "id": "effae859-7c1a-4af3-93ea-a08eda100b69",
   "metadata": {},
   "outputs": [
    {
     "data": {
      "text/html": [
       "<div>\n",
       "<style scoped>\n",
       "    .dataframe tbody tr th:only-of-type {\n",
       "        vertical-align: middle;\n",
       "    }\n",
       "\n",
       "    .dataframe tbody tr th {\n",
       "        vertical-align: top;\n",
       "    }\n",
       "\n",
       "    .dataframe thead th {\n",
       "        text-align: right;\n",
       "    }\n",
       "</style>\n",
       "<table border=\"1\" class=\"dataframe\">\n",
       "  <thead>\n",
       "    <tr style=\"text-align: right;\">\n",
       "      <th></th>\n",
       "      <th>geometry</th>\n",
       "      <th>address</th>\n",
       "    </tr>\n",
       "  </thead>\n",
       "  <tbody>\n",
       "    <tr>\n",
       "      <th>0</th>\n",
       "      <td>POINT (30.34511 55.26320)</td>\n",
       "      <td>Витебский район, Витебская область, Беларусь</td>\n",
       "    </tr>\n",
       "  </tbody>\n",
       "</table>\n",
       "</div>"
      ],
      "text/plain": [
       "                    geometry                                       address\n",
       "0  POINT (30.34511 55.26320)  Витебский район, Витебская область, Беларусь"
      ]
     },
     "execution_count": 95,
     "metadata": {},
     "output_type": "execute_result"
    }
   ],
   "source": [
    "geocoded['Vitebsk, Belarus'].lpc0"
   ]
  },
  {
   "cell_type": "code",
   "execution_count": 101,
   "id": "34cf3ad7-0e61-46ac-a4fb-dd9de3a1385f",
   "metadata": {},
   "outputs": [],
   "source": [
    "geocoded['Vitebsk, Belarus'].loc[0, 'geometry'] = Point(30.206439431639716, 55.192705501148616)"
   ]
  },
  {
   "cell_type": "code",
   "execution_count": 105,
   "id": "d8007067-d016-47a6-afa3-e0052f20c0a9",
   "metadata": {},
   "outputs": [],
   "source": [
    "img_folder = \"images_hires\""
   ]
  },
  {
   "cell_type": "code",
   "execution_count": 106,
   "id": "a710bf6a-2390-48b6-a69d-606eaecf6734",
   "metadata": {},
   "outputs": [
    {
     "name": "stderr",
     "output_type": "stream",
     "text": [
      "/Users/philippk/opt/anaconda3/envs/yaktak/lib/python3.7/site-packages/osmnx/geometries.py:805: ShapelyDeprecationWarning: Iteration over multi-part geometries is deprecated and will be removed in Shapely 2.0. Use the `geoms` property to access the constituent parts of a multi-part geometry.\n",
      "  for merged_outer_linestring in list(merged_outer_linestrings):\n",
      "/Users/philippk/opt/anaconda3/envs/yaktak/lib/python3.7/site-packages/osmnx/geometries.py:805: ShapelyDeprecationWarning: __len__ for multi-part geometries is deprecated and will be removed in Shapely 2.0. Check the length of the `geoms` property instead to get the  number of parts of a multi-part geometry.\n",
      "  for merged_outer_linestring in list(merged_outer_linestrings):\n",
      "/Users/philippk/opt/anaconda3/envs/yaktak/lib/python3.7/site-packages/osmnx/geometries.py:805: ShapelyDeprecationWarning: Iteration over multi-part geometries is deprecated and will be removed in Shapely 2.0. Use the `geoms` property to access the constituent parts of a multi-part geometry.\n",
      "  for merged_outer_linestring in list(merged_outer_linestrings):\n",
      "/Users/philippk/opt/anaconda3/envs/yaktak/lib/python3.7/site-packages/osmnx/geometries.py:805: ShapelyDeprecationWarning: __len__ for multi-part geometries is deprecated and will be removed in Shapely 2.0. Check the length of the `geoms` property instead to get the  number of parts of a multi-part geometry.\n",
      "  for merged_outer_linestring in list(merged_outer_linestrings):\n",
      "/Users/philippk/opt/anaconda3/envs/yaktak/lib/python3.7/site-packages/osmnx/geometries.py:805: ShapelyDeprecationWarning: Iteration over multi-part geometries is deprecated and will be removed in Shapely 2.0. Use the `geoms` property to access the constituent parts of a multi-part geometry.\n",
      "  for merged_outer_linestring in list(merged_outer_linestrings):\n",
      "/Users/philippk/opt/anaconda3/envs/yaktak/lib/python3.7/site-packages/osmnx/geometries.py:805: ShapelyDeprecationWarning: __len__ for multi-part geometries is deprecated and will be removed in Shapely 2.0. Check the length of the `geoms` property instead to get the  number of parts of a multi-part geometry.\n",
      "  for merged_outer_linestring in list(merged_outer_linestrings):\n",
      "/Users/philippk/opt/anaconda3/envs/yaktak/lib/python3.7/site-packages/osmnx/geometries.py:805: ShapelyDeprecationWarning: Iteration over multi-part geometries is deprecated and will be removed in Shapely 2.0. Use the `geoms` property to access the constituent parts of a multi-part geometry.\n",
      "  for merged_outer_linestring in list(merged_outer_linestrings):\n",
      "/Users/philippk/opt/anaconda3/envs/yaktak/lib/python3.7/site-packages/osmnx/geometries.py:805: ShapelyDeprecationWarning: __len__ for multi-part geometries is deprecated and will be removed in Shapely 2.0. Check the length of the `geoms` property instead to get the  number of parts of a multi-part geometry.\n",
      "  for merged_outer_linestring in list(merged_outer_linestrings):\n",
      "/Users/philippk/opt/anaconda3/envs/yaktak/lib/python3.7/site-packages/osmnx/geometries.py:805: ShapelyDeprecationWarning: Iteration over multi-part geometries is deprecated and will be removed in Shapely 2.0. Use the `geoms` property to access the constituent parts of a multi-part geometry.\n",
      "  for merged_outer_linestring in list(merged_outer_linestrings):\n",
      "/Users/philippk/opt/anaconda3/envs/yaktak/lib/python3.7/site-packages/osmnx/geometries.py:805: ShapelyDeprecationWarning: __len__ for multi-part geometries is deprecated and will be removed in Shapely 2.0. Check the length of the `geoms` property instead to get the  number of parts of a multi-part geometry.\n",
      "  for merged_outer_linestring in list(merged_outer_linestrings):\n",
      "/Users/philippk/opt/anaconda3/envs/yaktak/lib/python3.7/site-packages/osmnx/geometries.py:805: ShapelyDeprecationWarning: Iteration over multi-part geometries is deprecated and will be removed in Shapely 2.0. Use the `geoms` property to access the constituent parts of a multi-part geometry.\n",
      "  for merged_outer_linestring in list(merged_outer_linestrings):\n",
      "/Users/philippk/opt/anaconda3/envs/yaktak/lib/python3.7/site-packages/osmnx/geometries.py:805: ShapelyDeprecationWarning: __len__ for multi-part geometries is deprecated and will be removed in Shapely 2.0. Check the length of the `geoms` property instead to get the  number of parts of a multi-part geometry.\n",
      "  for merged_outer_linestring in list(merged_outer_linestrings):\n"
     ]
    },
    {
     "name": "stdout",
     "output_type": "stream",
     "text": [
      "Failed to pull: Novoye Medvezhino, Belarus\n"
     ]
    },
    {
     "name": "stderr",
     "output_type": "stream",
     "text": [
      "/Users/philippk/opt/anaconda3/envs/yaktak/lib/python3.7/site-packages/osmnx/geometries.py:805: ShapelyDeprecationWarning: Iteration over multi-part geometries is deprecated and will be removed in Shapely 2.0. Use the `geoms` property to access the constituent parts of a multi-part geometry.\n",
      "  for merged_outer_linestring in list(merged_outer_linestrings):\n",
      "/Users/philippk/opt/anaconda3/envs/yaktak/lib/python3.7/site-packages/osmnx/geometries.py:805: ShapelyDeprecationWarning: __len__ for multi-part geometries is deprecated and will be removed in Shapely 2.0. Check the length of the `geoms` property instead to get the  number of parts of a multi-part geometry.\n",
      "  for merged_outer_linestring in list(merged_outer_linestrings):\n"
     ]
    }
   ],
   "source": [
    "for addr, df in geocoded.items():\n",
    "    \n",
    "    try:\n",
    "        point = df.loc[0, 'geometry']\n",
    "        place = addr.split(',')[0]\n",
    "        xy = point.y, point.x\n",
    "\n",
    "        make_plot(place, point=xy, dist=3000, dpi=200, size=800, street_widths=street_widths, default_width=1)\n",
    "    except Exception as e:\n",
    "        print(f'Failed to pull: {addr}')\n",
    "        pass"
   ]
  },
  {
   "cell_type": "code",
   "execution_count": 107,
   "id": "9a254ce1-ae9f-4b94-8b60-1cf01b8df168",
   "metadata": {},
   "outputs": [
    {
     "name": "stdout",
     "output_type": "stream",
     "text": [
      "!\n"
     ]
    }
   ],
   "source": [
    "print('!')"
   ]
  },
  {
   "cell_type": "code",
   "execution_count": null,
   "id": "0ad50d9a-c82b-4041-8519-27d05e5d7783",
   "metadata": {},
   "outputs": [],
   "source": []
  }
 ],
 "metadata": {
  "kernelspec": {
   "display_name": "yaktak",
   "language": "python",
   "name": "yaktak"
  },
  "language_info": {
   "codemirror_mode": {
    "name": "ipython",
    "version": 3
   },
   "file_extension": ".py",
   "mimetype": "text/x-python",
   "name": "python",
   "nbconvert_exporter": "python",
   "pygments_lexer": "ipython3",
   "version": "3.7.8"
  }
 },
 "nbformat": 4,
 "nbformat_minor": 5
}
